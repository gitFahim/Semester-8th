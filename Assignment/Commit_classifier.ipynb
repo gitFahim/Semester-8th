{
 "cells": [
  {
   "cell_type": "code",
   "execution_count": 12,
   "id": "3c864776",
   "metadata": {},
   "outputs": [],
   "source": [
    "# All purpose \n",
    "import pandas as pd\n",
    "import numpy as np\n",
    "import re\n",
    "from numpy import mean\n",
    "from numpy import std\n",
    "# Visualization\n",
    "import seaborn as sns\n",
    "import matplotlib.pyplot as plt\n",
    "\n",
    "# Sklearn ML\n",
    "from sklearn.model_selection import train_test_split\n",
    "from sklearn.tree import DecisionTreeClassifier, plot_tree\n",
    "from sklearn.ensemble import RandomForestClassifier, AdaBoostClassifier\n",
    "from sklearn import metrics\n",
    "from sklearn import preprocessing\n",
    "from sklearn.model_selection import cross_val_score\n",
    "from sklearn.metrics import cohen_kappa_score\n",
    "from sklearn.metrics import confusion_matrix\n",
    "from sklearn.metrics import classification_report\n",
    "from sklearn.metrics import precision_score\n",
    "from sklearn.metrics import precision_recall_fscore_support as score\n",
    "from sklearn.ensemble import GradientBoostingClassifier\n",
    "from sklearn.model_selection import RepeatedStratifiedKFold\n",
    "from sklearn import tree\n",
    "from sklearn.metrics import cohen_kappa_score, make_scorer\n",
    "#from sklearn.grid_search import GridSearchCV\n",
    "from sklearn.svm import LinearSVC\n",
    "import sys\n",
    "sys._enablelegacywindowsfsencoding()\n",
    "pd.set_option('display.max_rows', None)"
   ]
  },
  {
   "cell_type": "code",
   "execution_count": 2,
   "id": "6f1b1e93",
   "metadata": {},
   "outputs": [
    {
     "name": "stdout",
     "output_type": "stream",
     "text": [
      "Data shape: (1151, 72)\n"
     ]
    }
   ],
   "source": [
    "#fields = ['comment', 'label']\n",
    "data = pd.read_csv(\"E:\\Semester 8\\Software Maintenance\\Assignment\\dataset.csv\", skipinitialspace=True,delimiter=\"#\")\n",
    "#commit_text= df['comment'].dropna()\n",
    "\n",
    "print(\"Data shape:\", data.shape)"
   ]
  },
  {
   "cell_type": "code",
   "execution_count": 3,
   "id": "5ff8a9ff",
   "metadata": {},
   "outputs": [],
   "source": [
    "#Keywords\n",
    "#X = data[[\"add\",\"allow\",\"bug\",\"chang\",\"error\",\"fail\",\"fix\",\"implement\",\"improv\",\"issu\",\"method\",\"new\",\"npe\",\"refactor\",\"remov\",\"report\",\"set\",\"support\",\"test\",\"use\"]]\n",
    "X = data.iloc[:,52:72]\n",
    "#X = data[\"add\",\"allow\"]\n",
    "y = data[\"label\"]"
   ]
  },
  {
   "cell_type": "code",
   "execution_count": 12,
   "id": "3b055e5c",
   "metadata": {},
   "outputs": [],
   "source": [
    "#Changes\n",
    "#X = data[[\"ADDING_ATTRIBUTE_MODIFIABILITY\",\"ADDING_CLASS_DERIVABILITY\",\"ADDING_METHOD_OVERRIDABILITY\",\"ADDITIONAL_CLASS\",\"ADDITIONAL_FUNCTIONALITY\",\"ADDITIONAL_OBJECT_STATE\",\"ALTERNATIVE_PART_DELETE\",\"ALTERNATIVE_PART_INSERT\",\"ATTRIBUTE_RENAMING\",\"ATTRIBUTE_TYPE_CHANGE\",\"CLASS_RENAMING\",\"COMMENT_DELETE\",\"COMMENT_INSERT\",\"COMMENT_MOVE\",\"COMMENT_UPDATE\",\"CONDITION_EXPRESSION_CHANGE\",\"DECREASING_ACCESSIBILITY_CHANGE\",\"DOC_DELETE\",\"DOC_INSERT\",\"DOC_UPDATE\",\"INCREASING_ACCESSIBILITY_CHANGE\",\"METHOD_RENAMING\",\"PARAMETER_DELETE\",\"PARAMETER_INSERT\",\"PARAMETER_ORDERING_CHANGE\",\"PARAMETER_RENAMING\",\"PARAMETER_TYPE_CHANGE\",\"PARENT_CLASS_CHANGE\",\"PARENT_CLASS_DELETE\",\"PARENT_CLASS_INSERT\",\"PARENT_INTERFACE_CHANGE\",\"PARENT_INTERFACE_DELETE\",\"PARENT_INTERFACE_INSERT\",\"REMOVED_CLASS\",\"REMOVED_FUNCTIONALITY\",\"REMOVED_OBJECT_STATE\",\"REMOVING_ATTRIBUTE_MODIFIABILITY\",\"REMOVING_CLASS_DERIVABILITY\",\"REMOVING_METHOD_OVERRIDABILITY\",\"RETURN_TYPE_CHANGE\",\"RETURN_TYPE_DELETE\",\"RETURN_TYPE_INSERT\",\"STATEMENT_DELETE\",\"STATEMENT_INSERT\",\"STATEMENT_ORDERING_CHANGE\",\"STATEMENT_PARENT_CHANGE\",\"STATEMENT_UPDATE\",\"UNCLASSIFIED_CHANGE\"]]\n",
    "X = data.iloc[:,4:52]\n",
    "#X = data[\"add\",\"allow\"]\n",
    "y = data[\"label\"]"
   ]
  },
  {
   "cell_type": "code",
   "execution_count": 4,
   "id": "b3d724bf",
   "metadata": {},
   "outputs": [],
   "source": [
    "#Combined\n",
    "#X = data[[\"ADDING_ATTRIBUTE_MODIFIABILITY\",\"ADDING_CLASS_DERIVABILITY\",\"ADDING_METHOD_OVERRIDABILITY\",\"ADDITIONAL_CLASS\",\"ADDITIONAL_FUNCTIONALITY\",\"ADDITIONAL_OBJECT_STATE\",\"ALTERNATIVE_PART_DELETE\",\"ALTERNATIVE_PART_INSERT\",\"ATTRIBUTE_RENAMING\",\"ATTRIBUTE_TYPE_CHANGE\",\"CLASS_RENAMING\",\"COMMENT_DELETE\",\"COMMENT_INSERT\",\"COMMENT_MOVE\",\"COMMENT_UPDATE\",\"CONDITION_EXPRESSION_CHANGE\",\"DECREASING_ACCESSIBILITY_CHANGE\",\"DOC_DELETE\",\"DOC_INSERT\",\"DOC_UPDATE\",\"INCREASING_ACCESSIBILITY_CHANGE\",\"METHOD_RENAMING\",\"PARAMETER_DELETE\",\"PARAMETER_INSERT\",\"PARAMETER_ORDERING_CHANGE\",\"PARAMETER_RENAMING\",\"PARAMETER_TYPE_CHANGE\",\"PARENT_CLASS_CHANGE\",\"PARENT_CLASS_DELETE\",\"PARENT_CLASS_INSERT\",\"PARENT_INTERFACE_CHANGE\",\"PARENT_INTERFACE_DELETE\",\"PARENT_INTERFACE_INSERT\",\"REMOVED_CLASS\",\"REMOVED_FUNCTIONALITY\",\"REMOVED_OBJECT_STATE\",\"REMOVING_ATTRIBUTE_MODIFIABILITY\",\"REMOVING_CLASS_DERIVABILITY\",\"REMOVING_METHOD_OVERRIDABILITY\",\"RETURN_TYPE_CHANGE\",\"RETURN_TYPE_DELETE\",\"RETURN_TYPE_INSERT\",\"STATEMENT_DELETE\",\"STATEMENT_INSERT\",\"STATEMENT_ORDERING_CHANGE\",\"STATEMENT_PARENT_CHANGE\",\"STATEMENT_UPDATE\",\"UNCLASSIFIED_CHANGE\",\"add\",\"allow\",\"bug\",\"chang\",\"error\",\"fail\",\"fix\",\"implement\",\"improv\",\"issu\",\"method\",\"new\",\"npe\",\"refactor\",\"remov\",\"report\",\"set\",\"support\",\"test\",\"use\"]]\n",
    "X = data.iloc[:,4:72]\n",
    "#X = data[\"add\",\"allow\"]\n",
    "y = data[\"label\"]"
   ]
  },
  {
   "cell_type": "code",
   "execution_count": 5,
   "id": "8e6f93dc",
   "metadata": {
    "scrolled": true
   },
   "outputs": [
    {
     "name": "stdout",
     "output_type": "stream",
     "text": [
      "(978, 68) (173, 68) (978,) (173,)\n"
     ]
    }
   ],
   "source": [
    "X_train, X_test, y_train, y_test = train_test_split(X, y, test_size = 0.15, random_state = 42)\n",
    "print(X_train.shape, X_test.shape, y_train.shape, y_test.shape)"
   ]
  },
  {
   "cell_type": "code",
   "execution_count": 6,
   "id": "30ba1b4f",
   "metadata": {},
   "outputs": [
    {
     "name": "stdout",
     "output_type": "stream",
     "text": [
      "Cross-validation: 70.759\n",
      "Kappa: 62.311\n"
     ]
    }
   ],
   "source": [
    "#Random Forest\n",
    "rfc = RandomForestClassifier()\n",
    "\n",
    "rfc.fit(X_train,y_train)\n",
    "# predictions\n",
    "\n",
    "#rf_pred_train = rfc.predict(X_train)\n",
    "rf_pred_test = rfc.predict(X_test)\n",
    "accuracy = metrics.accuracy_score(y_test, rf_pred_test)\n",
    "#cross-validation\n",
    "print ('Cross-validation: %.3f' % np.mean(cross_val_score(rfc, X_train, y_train, cv=5)*100))\n",
    "#kappa\n",
    "cohen_score = cohen_kappa_score(y_test, rf_pred_test)\n",
    "print('Kappa: %.3f' % (cohen_score*100))"
   ]
  },
  {
   "cell_type": "code",
   "execution_count": 7,
   "id": "847c09e8",
   "metadata": {},
   "outputs": [
    {
     "data": {
      "text/plain": [
       "array([[20,  7,  4],\n",
       "       [ 2, 61, 10],\n",
       "       [ 8, 10, 51]], dtype=int64)"
      ]
     },
     "execution_count": 7,
     "metadata": {},
     "output_type": "execute_result"
    }
   ],
   "source": [
    "#Confusion Matrix\n",
    "matrix = confusion_matrix(y_test, rf_pred_test)\n",
    "matrix"
   ]
  },
  {
   "cell_type": "code",
   "execution_count": 8,
   "id": "6ab11df4",
   "metadata": {},
   "outputs": [
    {
     "name": "stdout",
     "output_type": "stream",
     "text": [
      "              precision    recall  f1-score   support\n",
      "\n",
      "           a       0.67      0.65      0.66        31\n",
      "           c       0.78      0.84      0.81        73\n",
      "           p       0.78      0.74      0.76        69\n",
      "\n",
      "    accuracy                           0.76       173\n",
      "   macro avg       0.74      0.74      0.74       173\n",
      "weighted avg       0.76      0.76      0.76       173\n",
      "\n"
     ]
    }
   ],
   "source": [
    "report = classification_report(y_test, rf_pred_test)\n",
    "print(report)"
   ]
  },
  {
   "cell_type": "code",
   "execution_count": 9,
   "id": "8bc410a9",
   "metadata": {},
   "outputs": [
    {
     "name": "stdout",
     "output_type": "stream",
     "text": [
      "Precision : [66.66666667 78.20512821 78.46153846]\n",
      "Recall    : [64.51612903 83.56164384 73.91304348]\n"
     ]
    }
   ],
   "source": [
    "precision,recall,fscore,support=score(y_test, rf_pred_test)\n",
    "print ('Precision : {}'.format(precision*100))\n",
    "print ('Recall    : {}'.format(recall*100))"
   ]
  },
  {
   "cell_type": "code",
   "execution_count": 13,
   "id": "dad68532",
   "metadata": {},
   "outputs": [
    {
     "name": "stdout",
     "output_type": "stream",
     "text": [
      "Kappa: 63.320\n",
      "Cross-validation: 70.554\n"
     ]
    }
   ],
   "source": [
    "#GBM\n",
    "model = GradientBoostingClassifier()\n",
    "model.fit(X_train, y_train)\n",
    "model_pred_test = model.predict(X_test)\n",
    "accuracy = metrics.accuracy_score(y_test, model_pred_test)\n",
    "#print('Accuracy: %.3f' % (accuracy*100))\n",
    "cohen_score = cohen_kappa_score(y_test, model_pred_test)\n",
    "print('Kappa: %.3f' % (cohen_score*100))\n",
    "cv = RepeatedStratifiedKFold(n_splits=10, n_repeats=5, random_state=1)\n",
    "print ('Cross-validation: %.3f' % np.mean(cross_val_score(rfc, X_train, y_train, cv=5)*100))\n",
    "#print('Accuracy: %.3f' % (mean(accuracy)*100))"
   ]
  },
  {
   "cell_type": "code",
   "execution_count": 14,
   "id": "77f95a76",
   "metadata": {},
   "outputs": [
    {
     "name": "stdout",
     "output_type": "stream",
     "text": [
      "Kappa: 45.779\n",
      "Cross-validation: 59.613\n"
     ]
    }
   ],
   "source": [
    "#J48\n",
    "clf = tree.DecisionTreeClassifier()\n",
    "clf.fit(X_train, y_train)\n",
    "clf_pred_train = clf.predict(X_train)\n",
    "clf_pred_test = clf.predict(X_test)\n",
    "accuracy = metrics.accuracy_score(y_test, clf_pred_test)\n",
    "#print('Accuracy: %.3f' % (accuracy*100))\n",
    "cohen_score = cohen_kappa_score(y_test, clf_pred_test)\n",
    "print('Kappa: %.3f' % (cohen_score*100))\n",
    "print ('Cross-validation: %.3f' % np.mean(cross_val_score(clf, X_train, y_train, cv=5)*100))"
   ]
  },
  {
   "cell_type": "code",
   "execution_count": null,
   "id": "7d92116d",
   "metadata": {},
   "outputs": [],
   "source": []
  },
  {
   "cell_type": "code",
   "execution_count": null,
   "id": "5717c371",
   "metadata": {},
   "outputs": [],
   "source": []
  }
 ],
 "metadata": {
  "kernelspec": {
   "display_name": "Python 3 (ipykernel)",
   "language": "python",
   "name": "python3"
  },
  "language_info": {
   "codemirror_mode": {
    "name": "ipython",
    "version": 3
   },
   "file_extension": ".py",
   "mimetype": "text/x-python",
   "name": "python",
   "nbconvert_exporter": "python",
   "pygments_lexer": "ipython3",
   "version": "3.9.12"
  }
 },
 "nbformat": 4,
 "nbformat_minor": 5
}
